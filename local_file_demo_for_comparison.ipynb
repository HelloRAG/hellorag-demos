{
 "cells": [
  {
   "cell_type": "markdown",
   "id": "78bb3693",
   "metadata": {},
   "source": [
    "# Demo for comparing RAG performance w/ and w/o using HelloRAG\n",
    "1. Refer to [How to use HelloRAG](https://hellorag.ai/tutorial) tutorial to process your PDF(s) and export the resulting zip file(s)\n",
    "2. Place the exported zip file(s) under the directory './hellorag-result'\n",
    ">./hellorag-result  \n",
    "> ├──test_only.pdf.zip  \n",
    "> ├──some_other.pdf.zip  \n",
    "> ...\n"
   ]
  },
  {
   "cell_type": "markdown",
   "id": "c5c9300d",
   "metadata": {},
   "source": [
    "# 0. Setup:"
   ]
  },
  {
   "cell_type": "markdown",
   "id": "c0158724",
   "metadata": {},
   "source": [
    "## Install the required packages"
   ]
  },
  {
   "cell_type": "code",
   "execution_count": null,
   "id": "31252fb0",
   "metadata": {
    "scrolled": false
   },
   "outputs": [],
   "source": [
    "!pip install lxml==5.1.0\n",
    "!pip install llama-index==0.10.18\n",
    "!pip install reportlab==4.0.6\n",
    "!pip install beautifulsoup4==4.12.3\n",
    "!pip install llama-cpp-python==0.2.23\n",
    "!pip install pandas==2.2.0\n",
    "print('Ready')"
   ]
  },
  {
   "cell_type": "markdown",
   "id": "7426ca4a",
   "metadata": {},
   "source": [
    "## Config the LLM and Embedding Models"
   ]
  },
  {
   "cell_type": "code",
   "execution_count": 1,
   "id": "0016bb98",
   "metadata": {},
   "outputs": [
    {
     "name": "stdout",
     "output_type": "stream",
     "text": [
      "model config done!\n"
     ]
    }
   ],
   "source": [
    "import openai\n",
    "from llama_index.core.settings import Settings\n",
    "from llama_index.llms.openai import OpenAI\n",
    "import requests\n",
    "from llama_index.embeddings.openai import OpenAIEmbedding\n",
    "from llama_index.core.node_parser import SentenceSplitter\n",
    "import pandas as pd  \n",
    "\n",
    "#Set your OpenAI key or set your own LLM and Embedding Models\n",
    "openai.api_key = \"sk-*\"\n",
    "Settings.llm = OpenAI(model=\"gpt-4-0125-preview\")\n",
    "Settings.embed_model = OpenAIEmbedding(model=\"text-embedding-ada-002\")\n",
    "Settings._node_parser = SentenceSplitter()\n",
    "\n",
    "print('model config done!')"
   ]
  },
  {
   "cell_type": "markdown",
   "id": "b6611485",
   "metadata": {},
   "source": [
    "-------------------------------------------------------------------------------------------------------------------"
   ]
  },
  {
   "cell_type": "markdown",
   "id": "540ac1ae",
   "metadata": {},
   "source": [
    "# 1. RAG without using HelloRAG results:"
   ]
  },
  {
   "cell_type": "markdown",
   "id": "64bc3e6b",
   "metadata": {},
   "source": [
    "## 1.1 Build index (no need to rebuild if file(s) unchanged) "
   ]
  },
  {
   "cell_type": "code",
   "execution_count": 2,
   "id": "d09e5f8c",
   "metadata": {},
   "outputs": [
    {
     "name": "stdout",
     "output_type": "stream",
     "text": [
      "Index Built\n"
     ]
    }
   ],
   "source": [
    "from llama_index.core import VectorStoreIndex,SimpleDirectoryReader\n",
    "\n",
    "#put your documents in a dir and change the dir followed\n",
    "dir='./nohellorag'\n",
    "\n",
    "documents = SimpleDirectoryReader(dir).load_data()\n",
    "vector_index = VectorStoreIndex.from_documents(documents)\n",
    "vector_index.storage_context.persist(persist_dir=\"./nohellorag-index\")\n",
    "\n",
    "print('Index Built')"
   ]
  },
  {
   "cell_type": "markdown",
   "id": "2b034a34",
   "metadata": {},
   "source": [
    "## 1.2 Query"
   ]
  },
  {
   "cell_type": "code",
   "execution_count": 3,
   "id": "70490d6c",
   "metadata": {},
   "outputs": [
    {
     "name": "stdout",
     "output_type": "stream",
     "text": [
      "The Empire Corridor is a significant passenger rail corridor in New York State, extending 461 miles from Penn Station in New York City to Niagara Falls, New York. It passes through key cities such as Poughkeepsie, Albany, Schenectady, Amsterdam, Utica, Syracuse, Rochester, and Buffalo. This corridor, historically part of the New York Central Railroad's main line, is now served by trains collectively known as the Empire Service. The Empire Service name, originally introduced by the New York Central in 1967 and discontinued by Amtrak in 1971, was reinstated by Amtrak in 1972. Over the years, the service has seen various changes, including the addition and discontinuation of individual train names, with a notable shift in 1995 when individual names were replaced with the Empire Service brand, only to have individual names briefly return from 1996 to 1999 before settling back to the Empire Service branding.\n",
      "--------------------------------------------------------------------------------\n",
      "References:\n"
     ]
    },
    {
     "data": {
      "text/html": [
       "<style type=\"text/css\">\n",
       "#T_8d5a0 th {\n",
       "  text-align: left;\n",
       "  white-space: pre-wrap;\n",
       "}\n",
       "#T_8d5a0  td {\n",
       "  text-align: left;\n",
       "  white-space: pre-wrap;\n",
       "}\n",
       "</style>\n",
       "<table id=\"T_8d5a0\">\n",
       "  <thead>\n",
       "    <tr>\n",
       "      <th id=\"T_8d5a0_level0_col0\" class=\"col_heading level0 col0\" >File Name</th>\n",
       "      <th id=\"T_8d5a0_level0_col1\" class=\"col_heading level0 col1\" >Page No.</th>\n",
       "      <th id=\"T_8d5a0_level0_col2\" class=\"col_heading level0 col2\" >Score</th>\n",
       "      <th id=\"T_8d5a0_level0_col3\" class=\"col_heading level0 col3\" >Text</th>\n",
       "    </tr>\n",
       "  </thead>\n",
       "  <tbody>\n",
       "    <tr>\n",
       "      <td id=\"T_8d5a0_row0_col0\" class=\"data row0 col0\" >Amtrak Routes Tables.pdf</td>\n",
       "      <td id=\"T_8d5a0_row0_col1\" class=\"data row0 col1\" >1</td>\n",
       "      <td id=\"T_8d5a0_row0_col2\" class=\"data row0 col2\" >0.831836</td>\n",
       "      <td id=\"T_8d5a0_row0_col3\" class=\"data row0 col3\" >1 Amtrak Routes Amtrak operates inter-city rail service in 46 of the 48 contiguous U.S. states and three Canadian provinces. Amtrak is a portmanteau of the words America and trak, the latter itself a sensational spelling of track. Amtrak service is divided into three categories of routes: Northeast Corridor routes, state-supported routes, and long distance routes. These types indicate how the service is funded. Northeast Corridor service is directly subsidized by federal appropriations. Federally-supported long distance services are subsidized by appropriations under a separate line item from the NEC in federal budgets. Additionally, Amtrak partners with 17 states to provide additional short- and medium-distance services desired by those states. They are subsidized by periodic payments to Amtrak from the state partners. Three routes – the Carolinian, Northeast Regional, and Vermonter – are state-subsidized only on the sections of their routes off the Northeast Corridor (north of New Haven, and south of Washington).  The Northeast Regional and San Joaquin have branches served by different trips, while the Empire Builder and Lake Shore Limited split into two sections to serve branches. On the Capitol Corridor, Cascades, Empire Service, Keystone Service, Northeast Regional, and Pacific Surfliner, some or all trips do not run the full length of the route.  Empire Corridor The Empire Corridor is a 461-mile (742 km) passenger rail corridor in New York State running between Penn Station in New York City and Niagara Falls, New York. Major cities on the route include Poughkeepsie, Albany, Schenectady, Amsterdam, Utica, Syracuse, Rochester, and Buffalo. Much of the corridor was once part of the New York Central Railroad's main line.  Trains operating over the Empire Corridor (the former New York Central Railroad Water Level Route) are now collectively known as the Empire Service. The name was used by the New York Central beginning in 1967, but dropped by Amtrak in 1971. Amtrak restored the Empire Service brand with the June 11, 1972, timetable, and added individual train names on the May 19, 1974, timetable. As was done on the Northeast Corridor with NortheastDirect, individual train names for New York-Albany and New York-Niagara Falls service were dropped on October 28, 1995, and replaced with Empire. The individual names were re-added in November 1996, but dropped in favor of Empire Service in May 1999.</td>\n",
       "    </tr>\n",
       "    <tr>\n",
       "      <td id=\"T_8d5a0_row1_col0\" class=\"data row1 col0\" >Amtrak Routes Tables.pdf</td>\n",
       "      <td id=\"T_8d5a0_row1_col1\" class=\"data row1 col1\" >3</td>\n",
       "      <td id=\"T_8d5a0_row1_col2\" class=\"data row1 col2\" >0.817947</td>\n",
       "      <td id=\"T_8d5a0_row1_col3\" class=\"data row1 col3\" >3 Full list of current and discontinued Empire Corridor routes operated by Amtrak since May 1, 1971 (continued from Page 2) Name Route Service began Service ended Notes Cayuga New York City – Schenectady October 28, 1984 April 4, 1987  Central Park New York City – Albany April 2, 1995 October 27, 1995 Merged into Empire Service DeWitt Clinton New York City – Albany May 19, 1974 April 25, 1981 Previously unnamed; replaced by Rip Van Winkle Electric City Express New York City – Schenectady April 26, 1981  Replaced Salt City Express Empire Service  New York City – Buffalo May 1, 1971 May 18, 1974 Inherited from PC Empire Service; unnamed until June 11, 1972. Individual names applied on May 19, 1974. New York City – Niagara Falls October 28, 1995 present Merged from various individual train names. Individual names restored under the Empire Service brand from November 1996 to May 1999. \n",
       "Empire State Express New York City – Buffalo May 19, 1974 October 30, 1974 Previously unnamed New York City – Detroit October 31, 1974 April 24, 1976 Renamed Niagara Rainbow New York City – Buffalo January 8, 1978 October 28, 1978 Renamed from Water Level Express New York City – Niagara Falls October 29, 1978</td>\n",
       "    </tr>\n",
       "    <tr>\n",
       "      <td id=\"T_8d5a0_row2_col0\" class=\"data row2 col0\" >Amtrak Routes Tables.pdf</td>\n",
       "      <td id=\"T_8d5a0_row2_col1\" class=\"data row2 col1\" >2</td>\n",
       "      <td id=\"T_8d5a0_row2_col2\" class=\"data row2 col2\" >0.812325</td>\n",
       "      <td id=\"T_8d5a0_row2_col3\" class=\"data row2 col3\" >2 Full list of current and discontinued Empire Corridor routes operated by Amtrak since May 1, 1971 Name Route Service began Service ended Notes \n",
       "Adirondack New York City – Montreal August 6, 1974 April 1, 1995 Joint operation with Empire State Express/DeWitt Clinton until April 1975 Washington, D.C. – Montreal April 2, 1995 April 13, 1996  New York City – Montreal April 14, 1996 present  \n",
       "Bear Mountain New York City – Albany February 15, 1977 April 29, 1978  August 3, 1980 October 25, 1980  April 26, 1981  Renamed from Henry Hudson \n",
       "Catskill New York City – Albany October 27, 1991 October 30, 1993  New York City – Schenectady October 31, 1993 May 4, 1994  New York City – Syracuse May 5, 1994 October 29, 1994  New York City – Albany August 6, 1974 April 1, 1995 Joint operation with Empire State Express/DeWitt Clinton until April 1975 New York City – Niagara Falls April 2, 1995 April 13, 1996</td>\n",
       "    </tr>\n",
       "  </tbody>\n",
       "</table>\n"
      ],
      "text/plain": [
       "<pandas.io.formats.style.Styler at 0x177213250>"
      ]
     },
     "metadata": {},
     "output_type": "display_data"
    }
   ],
   "source": [
    "from llama_index.core import VectorStoreIndex,load_index_from_storage,StorageContext\n",
    "vector_index=load_index_from_storage(StorageContext.from_defaults(persist_dir=\"./nohellorag-index\"))\n",
    "engine=vector_index.as_query_engine(similarity_top_k=3)\n",
    "# your query\n",
    "response = engine.query(\"Tell me about the Empire Corridor\")\n",
    "print(response)\n",
    "print('--------------------------------------------------------------------------------')\n",
    "print('References:')\n",
    "data = []  \n",
    "for source_node in response.source_nodes:   \n",
    "    row_data = {  \n",
    "        'File Name': source_node.metadata['file_name'], \n",
    "        'Page No.': source_node.metadata['page_label'],  \n",
    "        'Score': source_node.score, \n",
    "        'Text': source_node.text,  \n",
    "    }  \n",
    "    data.append(row_data)  \n",
    "  \n",
    "df = pd.DataFrame(data)  \n",
    "pd.set_option('display.max_colwidth', None)\n",
    "styled_df = df.style.set_table_styles([\n",
    "     {'selector': 'th, td', 'props': [('text-align', 'left'),('white-space','pre-wrap')]}\n",
    "]).hide(axis='index')\n",
    "\n",
    "# display styled DataFrame\n",
    "display(styled_df)"
   ]
  },
  {
   "cell_type": "markdown",
   "id": "7ab6ed0e",
   "metadata": {},
   "source": [
    "-------------------------------------------------------------------------------------------------------------------"
   ]
  },
  {
   "cell_type": "markdown",
   "id": "68fc93b9",
   "metadata": {},
   "source": [
    "# 2. RAG using HelloRAG results:"
   ]
  },
  {
   "cell_type": "markdown",
   "id": "151117b2",
   "metadata": {},
   "source": [
    "## 2.1 Build index (no need to rebuild if file(s) unchanged)"
   ]
  },
  {
   "cell_type": "code",
   "execution_count": 3,
   "id": "30f78060",
   "metadata": {},
   "outputs": [
    {
     "name": "stdout",
     "output_type": "stream",
     "text": [
      "Building index  ...\n"
     ]
    },
    {
     "data": {
      "application/vnd.jupyter.widget-view+json": {
       "model_id": "20fec5e21ddb457d8e85b10cbfdb938e",
       "version_major": 2,
       "version_minor": 0
      },
      "text/plain": [
       "Generating embeddings:   0%|          | 0/9 [00:00<?, ?it/s]"
      ]
     },
     "metadata": {},
     "output_type": "display_data"
    },
    {
     "name": "stdout",
     "output_type": "stream",
     "text": [
      "Index Built\n"
     ]
    }
   ],
   "source": [
    "from llama_index.core.settings import Settings\n",
    "from hellorag_llama_pack.hellorag_llama_index_pack.base import HelloragLlamaindexPack\n",
    "\n",
    "print('Building index  ...')\n",
    "hellorag_pack = HelloragLlamaindexPack(\n",
    "        base_path=\"./hellorag-result\",\n",
    "        need_refresh=True,\n",
    "        index_path=\"./hellorag-files\",\n",
    "    )\n",
    "print('Index Built')\n"
   ]
  },
  {
   "cell_type": "markdown",
   "id": "79821f65",
   "metadata": {},
   "source": [
    "## 2.2 Query"
   ]
  },
  {
   "cell_type": "code",
   "execution_count": 4,
   "id": "aaefcc0a",
   "metadata": {
    "scrolled": true
   },
   "outputs": [
    {
     "name": "stdout",
     "output_type": "stream",
     "text": [
      "Amtrak operates inter-city rail service in 46 of the 48 contiguous U.S. states.\n",
      "--------------------------------------------------------------------------------\n",
      "References:\n"
     ]
    },
    {
     "data": {
      "text/html": [
       "<style type=\"text/css\">\n",
       "#T_3f7cc th {\n",
       "  text-align: left;\n",
       "  white-space: pre-wrap;\n",
       "}\n",
       "#T_3f7cc  td {\n",
       "  text-align: left;\n",
       "  white-space: pre-wrap;\n",
       "}\n",
       "</style>\n",
       "<table id=\"T_3f7cc\">\n",
       "  <thead>\n",
       "    <tr>\n",
       "      <th id=\"T_3f7cc_level0_col0\" class=\"col_heading level0 col0\" >File Name</th>\n",
       "      <th id=\"T_3f7cc_level0_col1\" class=\"col_heading level0 col1\" >Page No.</th>\n",
       "      <th id=\"T_3f7cc_level0_col2\" class=\"col_heading level0 col2\" >Score</th>\n",
       "      <th id=\"T_3f7cc_level0_col3\" class=\"col_heading level0 col3\" >Text</th>\n",
       "      <th id=\"T_3f7cc_level0_col4\" class=\"col_heading level0 col4\" >Table</th>\n",
       "      <th id=\"T_3f7cc_level0_col5\" class=\"col_heading level0 col5\" >Image</th>\n",
       "    </tr>\n",
       "  </thead>\n",
       "  <tbody>\n",
       "    <tr>\n",
       "      <td id=\"T_3f7cc_row0_col0\" class=\"data row0 col0\" >Amtrak Routes Tables.pdf</td>\n",
       "      <td id=\"T_3f7cc_row0_col1\" class=\"data row0 col1\" >1</td>\n",
       "      <td id=\"T_3f7cc_row0_col2\" class=\"data row0 col2\" >0.859739</td>\n",
       "      <td id=\"T_3f7cc_row0_col3\" class=\"data row0 col3\" >Amtrak Routes■■■■Amtrak operates inter-city rail service in 46 of the 48 contiguous U.S. states and three Canadian provinces. Amtrak is a portmanteau of the words America and trak, the latter itself a sensational spelling of track. Amtrak service is divided into three categories of routes: Northeast Corridor routes, state-supported routes, and long distance routes. These types indicate how the service is funded. Northeast Corridor service is directly subsidized by federal appropriations. Federally-supported long distance services are subsidized by appropriations under a separate line item from the NEC in federal budgets. Additionally, Amtrak partners with 17 states to provide additional short- and medium-distance services desired by those states. They are subsidized by periodic payments to Amtrak from the state partners. Three routes – the Carolinian, Northeast Regional, and Vermonter – are state-subsidized only on the sections of their routes off the Northeast Corridor (north of New Haven, and south of Washington).■■■■The Northeast Regional and San Joaquin have branches served by different trips, while the Empire Builder and Lake Shore Limited split into two sections to serve branches. On the Capitol Corridor, Cascades, Empire Service, Keystone Service, Northeast Regional, and Pacific Surfliner, some or all trips do not run the full length of the route.■■■■Empire Corridor■■■■The Empire Corridor is a 461-mile (742 km) passenger rail corridor in New York State running between Penn Station in New York City and Niagara Falls, New York. Major cities on the route include Poughkeepsie, Albany, Schenectady, Amsterdam, Utica, Syracuse, Rochester, and Buffalo. Much of the corridor was once part of the New York Central Railroad's main line.■■■■Trains operating over the Empire Corridor (the former New York Central Railroad Water Level Route) are now collectively known as the Empire Service. The name was used by the New York Central beginning in 1967, but dropped by Amtrak in 1971. Amtrak restored the Empire Service brand with the June 11, 1972, timetable, and added individual train names on the May 19, 1974, timetable.</td>\n",
       "      <td id=\"T_3f7cc_row0_col4\" class=\"data row0 col4\" ></td>\n",
       "      <td id=\"T_3f7cc_row0_col5\" class=\"data row0 col5\" ></td>\n",
       "    </tr>\n",
       "    <tr>\n",
       "      <td id=\"T_3f7cc_row1_col0\" class=\"data row1 col0\" >Amtrak Routes Tables.pdf</td>\n",
       "      <td id=\"T_3f7cc_row1_col1\" class=\"data row1 col1\" >1</td>\n",
       "      <td id=\"T_3f7cc_row1_col2\" class=\"data row1 col2\" >0.820117</td>\n",
       "      <td id=\"T_3f7cc_row1_col3\" class=\"data row1 col3\" >Major cities on the route include Poughkeepsie, Albany, Schenectady, Amsterdam, Utica, Syracuse, Rochester, and Buffalo. Much of the corridor was once part of the New York Central Railroad's main line.■■■■Trains operating over the Empire Corridor (the former New York Central Railroad Water Level Route) are now collectively known as the Empire Service. The name was used by the New York Central beginning in 1967, but dropped by Amtrak in 1971. Amtrak restored the Empire Service brand with the June 11, 1972, timetable, and added individual train names on the May 19, 1974, timetable. As was done on the Northeast Corridor with NortheastDirect, individual train names for New York-Albany and New York-Niagara Falls service were dropped on October 28, 1995, and replaced with Empire. The individual names were re-added in November 1996, but dropped in favor of Empire Service in May 1999.</td>\n",
       "      <td id=\"T_3f7cc_row1_col4\" class=\"data row1 col4\" ></td>\n",
       "      <td id=\"T_3f7cc_row1_col5\" class=\"data row1 col5\" ></td>\n",
       "    </tr>\n",
       "    <tr>\n",
       "      <td id=\"T_3f7cc_row2_col0\" class=\"data row2 col0\" >Amtrak Routes Tables.pdf</td>\n",
       "      <td id=\"T_3f7cc_row2_col1\" class=\"data row2 col1\" >1</td>\n",
       "      <td id=\"T_3f7cc_row2_col2\" class=\"data row2 col2\" >0.809435</td>\n",
       "      <td id=\"T_3f7cc_row2_col3\" class=\"data row2 col3\" >Amtrak National Route Map\n",
       "</td>\n",
       "      <td id=\"T_3f7cc_row2_col4\" class=\"data row2 col4\" ></td>\n",
       "      <td id=\"T_3f7cc_row2_col5\" class=\"data row2 col5\" ><img src=\"data:image/png;base64,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\" alt=\"Image\" style=\"max-width: 200px; max-height: 200px;\"/></td>\n",
       "    </tr>\n",
       "  </tbody>\n",
       "</table>\n"
      ],
      "text/plain": [
       "<pandas.io.formats.style.Styler at 0x17ccc87f0>"
      ]
     },
     "metadata": {},
     "output_type": "display_data"
    }
   ],
   "source": [
    "from llama_index.core.settings import Settings\n",
    "from hellorag_llama_pack.hellorag_llama_index_pack.base import HelloragLlamaindexPack\n",
    "import base64  \n",
    "import io  \n",
    "from IPython.display import display, Image \n",
    "hellorag_pack = HelloragLlamaindexPack(\n",
    "        index_path=\"./hellorag-files\",\n",
    "        top_k=3\n",
    "    )\n",
    "# your query\n",
    "response = hellorag_pack.run(\"How many U.S. States does Amtrak operate in? \")\n",
    "print(response)\n",
    "def show_hellorag_references(source_nodes):\n",
    "    print('--------------------------------------------------------------------------------')\n",
    "    print('References:')\n",
    "    data = []  \n",
    "    for source_node in response.source_nodes:\n",
    "        base64_str=getattr(source_node.node, 'image', None) \n",
    "        row_data = {  \n",
    "            'File Name': source_node.metadata['file_name'], \n",
    "            'Page No.': source_node.metadata['page_label'],  \n",
    "            'Score': source_node.score, \n",
    "            'Text': source_node.text,  \n",
    "            'Table': source_node.metadata['table_html'] if 'table_html' in source_node.metadata else '',  \n",
    "            'Image': f'<img src=\"data:image/png;base64,{base64_str}\" alt=\"Image\" style=\"max-width: 200px; max-height: 200px;\"/>' if base64_str else '',  \n",
    "        }  \n",
    "        data.append(row_data)  \n",
    "\n",
    "    df = pd.DataFrame(data)  \n",
    "    pd.set_option('display.max_colwidth', None)\n",
    "    styled_df = df.style.set_table_styles([\n",
    "         {'selector': 'th, td', 'props': [('text-align', 'left'),('white-space','pre-wrap')]}\n",
    "    ]).hide(axis='index')\n",
    "\n",
    "    # display styled DataFrame\n",
    "    display(styled_df)\n",
    "    \n",
    "show_hellorag_references(response.source_nodes)"
   ]
  },
  {
   "cell_type": "markdown",
   "id": "50b20aaf",
   "metadata": {},
   "source": [
    "-------------------------------------------------------------------------------------------------------------------"
   ]
  },
  {
   "cell_type": "code",
   "execution_count": 6,
   "id": "f6e80f06",
   "metadata": {},
   "outputs": [
    {
     "name": "stdout",
     "output_type": "stream",
     "text": [
      "The Empire Service route initially ran from New York City to Buffalo, starting service on May 1, 1971, and ending on May 18, 1974. This service was inherited from PC Empire Service and remained unnamed until June 11, 1972. Individual names were applied on May 19, 1974. Later, the Empire Service route was extended from New York City to Niagara Falls, beginning on October 28, 1995, and is still in operation. This extension merged various individual train names, which were restored under the Empire Service brand from November 1996 to May 1999.\n",
      "--------------------------------------------------------------------------------\n",
      "References:\n"
     ]
    },
    {
     "data": {
      "text/html": [
       "<style type=\"text/css\">\n",
       "#T_e3efa th {\n",
       "  text-align: left;\n",
       "  white-space: pre-wrap;\n",
       "}\n",
       "#T_e3efa  td {\n",
       "  text-align: left;\n",
       "  white-space: pre-wrap;\n",
       "}\n",
       "</style>\n",
       "<table id=\"T_e3efa\">\n",
       "  <thead>\n",
       "    <tr>\n",
       "      <th id=\"T_e3efa_level0_col0\" class=\"col_heading level0 col0\" >File Name</th>\n",
       "      <th id=\"T_e3efa_level0_col1\" class=\"col_heading level0 col1\" >Page No.</th>\n",
       "      <th id=\"T_e3efa_level0_col2\" class=\"col_heading level0 col2\" >Score</th>\n",
       "      <th id=\"T_e3efa_level0_col3\" class=\"col_heading level0 col3\" >Text</th>\n",
       "      <th id=\"T_e3efa_level0_col4\" class=\"col_heading level0 col4\" >Table</th>\n",
       "      <th id=\"T_e3efa_level0_col5\" class=\"col_heading level0 col5\" >Image</th>\n",
       "    </tr>\n",
       "  </thead>\n",
       "  <tbody>\n",
       "    <tr>\n",
       "      <td id=\"T_e3efa_row0_col0\" class=\"data row0 col0\" >Amtrak Routes Tables.pdf</td>\n",
       "      <td id=\"T_e3efa_row0_col1\" class=\"data row0 col1\" >1</td>\n",
       "      <td id=\"T_e3efa_row0_col2\" class=\"data row0 col2\" >0.858153</td>\n",
       "      <td id=\"T_e3efa_row0_col3\" class=\"data row0 col3\" >Major cities on the route include Poughkeepsie, Albany, Schenectady, Amsterdam, Utica, Syracuse, Rochester, and Buffalo. Much of the corridor was once part of the New York Central Railroad's main line.■■■■Trains operating over the Empire Corridor (the former New York Central Railroad Water Level Route) are now collectively known as the Empire Service. The name was used by the New York Central beginning in 1967, but dropped by Amtrak in 1971. Amtrak restored the Empire Service brand with the June 11, 1972, timetable, and added individual train names on the May 19, 1974, timetable. As was done on the Northeast Corridor with NortheastDirect, individual train names for New York-Albany and New York-Niagara Falls service were dropped on October 28, 1995, and replaced with Empire. The individual names were re-added in November 1996, but dropped in favor of Empire Service in May 1999.</td>\n",
       "      <td id=\"T_e3efa_row0_col4\" class=\"data row0 col4\" ></td>\n",
       "      <td id=\"T_e3efa_row0_col5\" class=\"data row0 col5\" ></td>\n",
       "    </tr>\n",
       "    <tr>\n",
       "      <td id=\"T_e3efa_row1_col0\" class=\"data row1 col0\" >Amtrak Routes Tables.pdf</td>\n",
       "      <td id=\"T_e3efa_row1_col1\" class=\"data row1 col1\" >1</td>\n",
       "      <td id=\"T_e3efa_row1_col2\" class=\"data row1 col2\" >0.839979</td>\n",
       "      <td id=\"T_e3efa_row1_col3\" class=\"data row1 col3\" >Amtrak Routes■■■■Amtrak operates inter-city rail service in 46 of the 48 contiguous U.S. states and three Canadian provinces. Amtrak is a portmanteau of the words America and trak, the latter itself a sensational spelling of track. Amtrak service is divided into three categories of routes: Northeast Corridor routes, state-supported routes, and long distance routes. These types indicate how the service is funded. Northeast Corridor service is directly subsidized by federal appropriations. Federally-supported long distance services are subsidized by appropriations under a separate line item from the NEC in federal budgets. Additionally, Amtrak partners with 17 states to provide additional short- and medium-distance services desired by those states. They are subsidized by periodic payments to Amtrak from the state partners. Three routes – the Carolinian, Northeast Regional, and Vermonter – are state-subsidized only on the sections of their routes off the Northeast Corridor (north of New Haven, and south of Washington).■■■■The Northeast Regional and San Joaquin have branches served by different trips, while the Empire Builder and Lake Shore Limited split into two sections to serve branches. On the Capitol Corridor, Cascades, Empire Service, Keystone Service, Northeast Regional, and Pacific Surfliner, some or all trips do not run the full length of the route.■■■■Empire Corridor■■■■The Empire Corridor is a 461-mile (742 km) passenger rail corridor in New York State running between Penn Station in New York City and Niagara Falls, New York. Major cities on the route include Poughkeepsie, Albany, Schenectady, Amsterdam, Utica, Syracuse, Rochester, and Buffalo. Much of the corridor was once part of the New York Central Railroad's main line.■■■■Trains operating over the Empire Corridor (the former New York Central Railroad Water Level Route) are now collectively known as the Empire Service. The name was used by the New York Central beginning in 1967, but dropped by Amtrak in 1971. Amtrak restored the Empire Service brand with the June 11, 1972, timetable, and added individual train names on the May 19, 1974, timetable.</td>\n",
       "      <td id=\"T_e3efa_row1_col4\" class=\"data row1 col4\" ></td>\n",
       "      <td id=\"T_e3efa_row1_col5\" class=\"data row1 col5\" ></td>\n",
       "    </tr>\n",
       "    <tr>\n",
       "      <td id=\"T_e3efa_row2_col0\" class=\"data row2 col0\" >Amtrak Routes Tables.pdf</td>\n",
       "      <td id=\"T_e3efa_row2_col1\" class=\"data row2 col1\" >3</td>\n",
       "      <td id=\"T_e3efa_row2_col2\" class=\"data row2 col2\" >0.839887</td>\n",
       "      <td id=\"T_e3efa_row2_col3\" class=\"data row2 col3\" ></td>\n",
       "      <td id=\"T_e3efa_row2_col4\" class=\"data row2 col4\" ><table><tbody><tr><td>Name</td><td>Route</td><td>Service began</td><td>Service ended</td><td>Notes</td></tr><tr><td>Cayuga</td><td>New York City –Schenectady</td><td>October 28,1984</td><td>April 4, 1987</td><td></td></tr><tr><td>Central Park</td><td>New York City – Albany</td><td>April 2, 1995</td><td>October 27, 1995</td><td>Merged into EmpireService</td></tr><tr><td>DeWittClinton</td><td>New York City – Albany</td><td>May 19, 1974</td><td>April 25, 1981</td><td>Previously unnamed;replaced by Rip VanWinkle</td></tr><tr><td>Electric CityExpress</td><td>New York City –Schenectady</td><td>April 26, 1981</td><td></td><td>Replaced Salt CityExpress</td></tr><tr><td rowspan=\"2\" colspan=\"1\">EmpireService</td><td>New York City – Buffalo</td><td>May 1, 1971</td><td>May 18, 1974</td><td>Inherited from PC EmpireService; unnamed untilJune 11, 1972. Individualnames applied on May19, 1974.</td></tr><tr><td>New York City – NiagaraFalls</td><td>October 28,1995</td><td>present</td><td>Merged from variousindividual train names.Individual names restoredunder the EmpireService brand fromNovember 1996 to May1999.</td></tr><tr><td rowspan=\"4\" colspan=\"1\">EmpireStateExpress</td><td>New York City – Buffalo</td><td>May 19, 1974</td><td>October 30, 1974</td><td>Previously unnamed</td></tr><tr><td>New York City – Detroit</td><td>October 31,1974</td><td>April 24, 1976</td><td>Renamed NiagaraRainbow</td></tr><tr><td>New York City – Buffalo</td><td>January 8, 1978</td><td>October 28, 1978</td><td>Renamed from WaterLevel Express</td></tr><tr><td>New York City – NiagaraFalls</td><td>October 29,1978</td><td></td><td></td></tr></tbody></table></td>\n",
       "      <td id=\"T_e3efa_row2_col5\" class=\"data row2 col5\" ></td>\n",
       "    </tr>\n",
       "  </tbody>\n",
       "</table>\n"
      ],
      "text/plain": [
       "<pandas.io.formats.style.Styler at 0x1788e3610>"
      ]
     },
     "metadata": {},
     "output_type": "display_data"
    }
   ],
   "source": [
    "# your query\n",
    "response = hellorag_pack.run(\"Tell me about the route Empire Service \")\n",
    "print(response)\n",
    "show_hellorag_references(response.source_nodes)"
   ]
  },
  {
   "cell_type": "markdown",
   "id": "88497231",
   "metadata": {},
   "source": [
    "-------------------------------------------------------------------------------------------------------------------"
   ]
  },
  {
   "cell_type": "markdown",
   "id": "1401e859",
   "metadata": {},
   "source": [
    "# 3. Comparison (w/ vs. w/o HelloRAG)"
   ]
  },
  {
   "cell_type": "markdown",
   "id": "aa3fb0b1",
   "metadata": {},
   "source": [
    "## Install requirements"
   ]
  },
  {
   "cell_type": "code",
   "execution_count": null,
   "id": "0f0c9f24",
   "metadata": {},
   "outputs": [],
   "source": [
    "!pip install IPython"
   ]
  },
  {
   "cell_type": "markdown",
   "id": "c9c16d68",
   "metadata": {},
   "source": [
    "## Battle Start"
   ]
  },
  {
   "cell_type": "code",
   "execution_count": 7,
   "id": "ec41b1b6",
   "metadata": {},
   "outputs": [
    {
     "data": {
      "text/html": [
       "<style type=\"text/css\">\n",
       "#T_833d9 th {\n",
       "  text-align: left;\n",
       "  white-space: pre-wrap;\n",
       "  font-size: 15px;\n",
       "}\n",
       "#T_833d9  td {\n",
       "  text-align: left;\n",
       "  white-space: pre-wrap;\n",
       "  font-size: 15px;\n",
       "}\n",
       "</style>\n",
       "<table id=\"T_833d9\">\n",
       "  <thead>\n",
       "    <tr>\n",
       "      <th id=\"T_833d9_level0_col0\" class=\"col_heading level0 col0\" >w/ HelloRAG</th>\n",
       "      <th id=\"T_833d9_level0_col1\" class=\"col_heading level0 col1\" > </th>\n",
       "      <th id=\"T_833d9_level0_col2\" class=\"col_heading level0 col2\" >w/o HelloRAG</th>\n",
       "    </tr>\n",
       "  </thead>\n",
       "  <tbody>\n",
       "    <tr>\n",
       "      <td id=\"T_833d9_row0_col0\" class=\"data row0 col0\" >- Mohawk: New York City – Niagara Falls, Service began April 26, 1981, Service ended April 28, 1984.\n",
       "- Mohawk: New York City – Niagara Falls, Service began October 28,1984.\n",
       "- Niagara Rainbow: New York City – Niagara Falls, Service began January 31,1979.\n",
       "- Empire Service: New York City – Niagara Falls, Service began October 28,1995, Service is present.\n",
       "- Empire State Express: New York City – Niagara Falls, Service began October 29,1978.</td>\n",
       "      <td id=\"T_833d9_row0_col1\" class=\"data row0 col1\" >vs.</td>\n",
       "      <td id=\"T_833d9_row0_col2\" class=\"data row0 col2\" >The routes between New York City and Niagara Falls include the Mohawk, Niagara Rainbow, and Empire Service.</td>\n",
       "    </tr>\n",
       "  </tbody>\n",
       "</table>\n"
      ],
      "text/plain": [
       "<pandas.io.formats.style.Styler at 0x10b8d4dc0>"
      ]
     },
     "metadata": {},
     "output_type": "display_data"
    }
   ],
   "source": [
    "from llama_index.core.settings import Settings\n",
    "from hellorag_llama_pack.hellorag_llama_index_pack.base import HelloragLlamaindexPack\n",
    "from llama_index.core import VectorStoreIndex,load_index_from_storage,StorageContext\n",
    "import pandas as pd\n",
    "from IPython.display import HTML\n",
    "hellorag_pack = HelloragLlamaindexPack(\n",
    "        index_path=\"./hellorag-files\",\n",
    "        top_k=3\n",
    "    )\n",
    "#change your question\n",
    "question=\"Which other routes are between nyc and niagara falls?\"\n",
    "response_1 = hellorag_pack.run(question)\n",
    "vector_index=load_index_from_storage(StorageContext.from_defaults(persist_dir=\"./nohellorag-index\"))\n",
    "engine=vector_index.as_query_engine(similarity_top_k=3)\n",
    "response_2 = engine.query(question)\n",
    "\n",
    "data = {'w/ HelloRAG': [response_1],\n",
    "        ' ': ['vs.'],\n",
    "        'w/o HelloRAG': [response_2]}\n",
    "df = pd.DataFrame(data)\n",
    "pd.set_option('display.max_colwidth', None)\n",
    "\n",
    "styled_df = df.style.set_table_styles([\n",
    "     {'selector': 'th, td', 'props': [('text-align', 'left'),('white-space','pre-wrap'),('font-size','15px')]}\n",
    "]).hide(axis='index')\n",
    "\n",
    "# display styled DataFrame\n",
    "display(styled_df)"
   ]
  },
  {
   "cell_type": "code",
   "execution_count": null,
   "id": "074e7b77",
   "metadata": {},
   "outputs": [],
   "source": []
  }
 ],
 "metadata": {
  "kernelspec": {
   "display_name": "Python 3 (ipykernel)",
   "language": "python",
   "name": "python3"
  },
  "language_info": {
   "codemirror_mode": {
    "name": "ipython",
    "version": 3
   },
   "file_extension": ".py",
   "mimetype": "text/x-python",
   "name": "python",
   "nbconvert_exporter": "python",
   "pygments_lexer": "ipython3",
   "version": "3.10.10"
  }
 },
 "nbformat": 4,
 "nbformat_minor": 5
}
